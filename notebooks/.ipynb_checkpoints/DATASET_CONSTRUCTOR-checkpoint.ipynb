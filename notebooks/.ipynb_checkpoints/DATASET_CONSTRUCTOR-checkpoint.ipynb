{
 "cells": [
  {
   "cell_type": "code",
   "execution_count": 2,
   "id": "e16f3625-8aeb-4b1f-81f0-cd3acf90dbb3",
   "metadata": {},
   "outputs": [],
   "source": [
    "import sys\n",
    "sys.path.append('..')\n",
    "\n",
    "import os\n",
    "import pickle\n",
    "import random\n",
    "\n",
    "import numpy as np"
   ]
  },
  {
   "cell_type": "code",
   "execution_count": 3,
   "id": "cb6d045f-a5e6-43eb-a67e-7ed7dfe00170",
   "metadata": {},
   "outputs": [],
   "source": [
    "pickle_list = [\n",
    "    'Batch 1 May Kelly 0.pickle',\n",
    "    'Batch 1 May Kelly 1.pickle',\n",
    "    'Batch 1 May Kelly 2.pickle',\n",
    "    'Batch 1 May Kelly 3.pickle',\n",
    "    'Batch 1 May Kelly 4.pickle',\n",
    "    'Batch 1 May Kelly 5.pickle',\n",
    "    'Batch 1 May Kelly 6.pickle',\n",
    "    'Batch 1 May Kelly 7.pickle',\n",
    "    'Batch 1 May Kelly 8.pickle',\n",
    "    'Batch 1 May Kelly 9.pickle',\n",
    "    'Batch 2 May Kelly 0.pickle',\n",
    "    'Batch 2 May Kelly 1.pickle',\n",
    "    'Batch 2 May Kelly 2.pickle',\n",
    "    'Batch 2 May Kelly 3.pickle',\n",
    "    'Batch 3 May Kelly 0.pickle',\n",
    "    'Batch 3 May Kelly 1.pickle',\n",
    "    'Batch 3 May Kelly 2.pickle',\n",
    "    'Batch 3 May Kelly 3.pickle',\n",
    "    'Batch 3 May Kelly 4.pickle',\n",
    "    'Batch 3 May Kelly 5.pickle',\n",
    "    'Batch 3 May Kelly 6.pickle',\n",
    "    'Batch 3 May Kelly 7.pickle',\n",
    "    'Batch 3 May Kelly 8.pickle'\n",
    "]"
   ]
  },
  {
   "cell_type": "code",
   "execution_count": 4,
   "id": "778135aa-8da3-46eb-a62c-93ed46095185",
   "metadata": {},
   "outputs": [
    {
     "name": "stdout",
     "output_type": "stream",
     "text": [
      "Working with: Batch 1 May Kelly 0.pickle\n",
      "Working with: Batch 1 May Kelly 1.pickle\n",
      "Working with: Batch 1 May Kelly 2.pickle\n",
      "Working with: Batch 1 May Kelly 3.pickle\n",
      "Working with: Batch 1 May Kelly 4.pickle\n",
      "Working with: Batch 1 May Kelly 5.pickle\n",
      "Working with: Batch 1 May Kelly 6.pickle\n",
      "Working with: Batch 1 May Kelly 7.pickle\n",
      "Working with: Batch 1 May Kelly 8.pickle\n",
      "Working with: Batch 1 May Kelly 9.pickle\n",
      "Working with: Batch 2 May Kelly 0.pickle\n",
      "Working with: Batch 2 May Kelly 1.pickle\n",
      "Working with: Batch 2 May Kelly 2.pickle\n",
      "Working with: Batch 2 May Kelly 3.pickle\n",
      "Working with: Batch 3 May Kelly 0.pickle\n",
      "Working with: Batch 3 May Kelly 1.pickle\n",
      "Working with: Batch 3 May Kelly 2.pickle\n",
      "Working with: Batch 3 May Kelly 3.pickle\n",
      "Working with: Batch 3 May Kelly 4.pickle\n",
      "Working with: Batch 3 May Kelly 5.pickle\n",
      "Working with: Batch 3 May Kelly 6.pickle\n",
      "Working with: Batch 3 May Kelly 7.pickle\n",
      "Working with: Batch 3 May Kelly 8.pickle\n"
     ]
    }
   ],
   "source": [
    "b = []\n",
    "for filename in pickle_list:\n",
    "    print(\"Working with: \"+filename)\n",
    "    with open('/media/kremon-storage/dataset-01/'+filename, 'rb') as handle:\n",
    "        b = b + pickle.load(handle)\n",
    "        \n",
    "random.shuffle(b)\n",
    "\n",
    "with open('../data/final/data_clean_batch_1.pickle', 'wb') as handle:\n",
    "             pickle.dump(b, handle, protocol=pickle.HIGHEST_PROTOCOL)\n"
   ]
  },
  {
   "cell_type": "code",
   "execution_count": null,
   "id": "1b017ef0-12ba-4d45-8b97-eba1cbd99379",
   "metadata": {},
   "outputs": [],
   "source": []
  }
 ],
 "metadata": {
  "kernelspec": {
   "display_name": "Python 3 (ipykernel)",
   "language": "python",
   "name": "python3"
  },
  "language_info": {
   "codemirror_mode": {
    "name": "ipython",
    "version": 3
   },
   "file_extension": ".py",
   "mimetype": "text/x-python",
   "name": "python",
   "nbconvert_exporter": "python",
   "pygments_lexer": "ipython3",
   "version": "3.9.16"
  }
 },
 "nbformat": 4,
 "nbformat_minor": 5
}
